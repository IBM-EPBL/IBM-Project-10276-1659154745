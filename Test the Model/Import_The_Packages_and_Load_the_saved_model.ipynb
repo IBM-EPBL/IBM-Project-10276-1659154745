{
  "nbformat": 4,
  "nbformat_minor": 0,
  "metadata": {
    "colab": {
      "provenance": []
    },
    "kernelspec": {
      "name": "python3",
      "display_name": "Python 3"
    },
    "language_info": {
      "name": "python"
    }
  },
  "cells": [
    {
      "cell_type": "code",
      "execution_count": 2,
      "metadata": {
        "id": "86KE5G8tVUxN"
      },
      "outputs": [],
      "source": [
        "from keras.models import load_model \n",
        "import numpy as np\n",
        "import cv2"
      ]
    }
  ]
}