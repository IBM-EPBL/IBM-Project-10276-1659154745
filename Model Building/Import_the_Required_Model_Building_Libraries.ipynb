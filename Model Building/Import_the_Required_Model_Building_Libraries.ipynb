{
  "nbformat": 4,
  "nbformat_minor": 0,
  "metadata": {
    "colab": {
      "provenance": []
    },
    "kernelspec": {
      "name": "python3",
      "display_name": "Python 3"
    },
    "language_info": {
      "name": "python"
    }
  },
  "cells": [
    {
      "cell_type": "code",
      "execution_count": 36,
      "metadata": {
        "id": "LrzjXQtilDZo"
      },
      "outputs": [],
      "source": [
        "from keras.models import Sequential\n",
        "\n",
        "from keras.layers import Dense\n",
        "\n",
        "from keras.layers import Convolution2D\n",
        "\n",
        "from keras.layers import MaxPooling2D\n",
        "\n",
        "from keras.layers import Dropout\n",
        "\n",
        "from keras.layers import Flatten"
      ]
    },
    {
      "cell_type": "markdown",
      "source": [],
      "metadata": {
        "id": "GwTAUACww3yy"
      }
    }
  ]
}