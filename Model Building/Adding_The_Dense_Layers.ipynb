{
  "nbformat": 4,
  "nbformat_minor": 0,
  "metadata": {
    "colab": {
      "provenance": []
    },
    "kernelspec": {
      "name": "python3",
      "display_name": "Python 3"
    },
    "language_info": {
      "name": "python"
    }
  },
  "cells": [
    {
      "cell_type": "code",
      "execution_count": 42,
      "metadata": {
        "id": "LrzjXQtilDZo"
      },
      "outputs": [],
      "source": [
        "model.add(Dense(units=512, activation='relu'))\n",
        "\n",
        "model.add(Dense(units=9, activation='softmax'))"
      ]
    },
    {
      "cell_type": "markdown",
      "source": [],
      "metadata": {
        "id": "GwTAUACww3yy"
      }
    }
  ]
}