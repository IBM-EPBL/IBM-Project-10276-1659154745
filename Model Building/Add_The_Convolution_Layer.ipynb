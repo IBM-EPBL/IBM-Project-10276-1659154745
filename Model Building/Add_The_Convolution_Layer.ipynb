{
  "nbformat": 4,
  "nbformat_minor": 0,
  "metadata": {
    "colab": {
      "provenance": []
    },
    "kernelspec": {
      "name": "python3",
      "display_name": "Python 3"
    },
    "language_info": {
      "name": "python"
    }
  },
  "cells": [
    {
      "cell_type": "code",
      "execution_count": 43,
      "metadata": {
        "id": "LrzjXQtilDZo"
      },
      "outputs": [],
      "source": [
        "model.add(Convolution2D (32, (3,3), input_shape=(64,64,1), activation = 'relu')) #no. of feature detectors, size of featuredetector, image size, activation function"
      ]
    },
    {
      "cell_type": "markdown",
      "source": [],
      "metadata": {
        "id": "GwTAUACww3yy"
      }
    }
  ]
}