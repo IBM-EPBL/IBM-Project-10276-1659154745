{
  "nbformat": 4,
  "nbformat_minor": 0,
  "metadata": {
    "colab": {
      "provenance": []
    },
    "kernelspec": {
      "name": "python3",
      "display_name": "Python 3"
    },
    "language_info": {
      "name": "python"
    }
  },
  "cells": [
    {
      "cell_type": "code",
      "source": [
        "#preprocessing the frame captured from camera\n",
        "\n",
        "27def detect (frame):\n",
        "\n",
        "28         img = resize(frame, (64,64,1))\n",
        "\n",
        "29         img = np.expand_dims (img, axis=0)\n",
        "\n",
        "30         if(np.max(img)>1):\n",
        "\n",
        "31             img img/255.0\n",
        "\n",
        "32         with graph.as_default():\n",
        "\n",
        "33                  prediction = model.predict_classes(img)\n",
        "\n",
        "34          print (prediction)\n",
        "\n",
        "35          pred=vals[prediction[0]]\n",
        "\n",
        "36          print(pred)\n",
        "\n",
        "37          return pred"
      ],
      "metadata": {
        "id": "cJviE39e4506"
      },
      "execution_count": null,
      "outputs": []
    },
    {
      "cell_type": "code",
      "source": [
        "77@app.route('/video_feed')\n",
        "\n",
        "78def video_feed():\n",
        "\n",
        "79      return Response(gen(),\n",
        "\n",
        "80               mimetype='multipart/x-mixed replace; boundary=frame')\n",
        "\n",
        "82if_name_ == '__main__': app.run(host='0.0.0.0', debug=True)"
      ],
      "metadata": {
        "id": "jFNRTUUs4_OK"
      },
      "execution_count": null,
      "outputs": []
    }
  ]
}